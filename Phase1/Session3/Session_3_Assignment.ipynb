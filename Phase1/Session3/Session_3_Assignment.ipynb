{
  "nbformat": 4,
  "nbformat_minor": 0,
  "metadata": {
    "colab": {
      "name": "Session_3_Assignment.ipynb",
      "provenance": []
    },
    "kernelspec": {
      "name": "python3",
      "display_name": "Python 3"
    }
  },
  "cells": [
    {
      "cell_type": "markdown",
      "metadata": {
        "id": "M4oOmMriHrf7"
      },
      "source": [
        "# Assignment"
      ]
    },
    {
      "cell_type": "markdown",
      "metadata": {
        "id": "oSdtD2ZVHwMw"
      },
      "source": [
        "## 1) Write a function using only list filter lambda that can tell whether a number is a Fibonacci number or not. You can use a pre-calculated list/dict to store fab numbers till 10000"
      ]
    },
    {
      "cell_type": "code",
      "metadata": {
        "id": "5pMdc_5DIopj"
      },
      "source": [
        "import sys\n",
        "sys.setrecursionlimit(15000)"
      ],
      "execution_count": 1,
      "outputs": []
    },
    {
      "cell_type": "code",
      "metadata": {
        "id": "BVRVsPi1F-Xg",
        "outputId": "1427b338-d4c4-4c5a-e037-b43f035cd71f",
        "colab": {
          "base_uri": "https://localhost:8080/"
        }
      },
      "source": [
        "def fibonacci(n):\n",
        "    if n == 0:\n",
        "        return [0]\n",
        "    elif n == 1:\n",
        "        return [0, 1]\n",
        "    else:\n",
        "        lst = fibonacci(n-1)\n",
        "        lst.append(lst[-1] + lst[-2])\n",
        "        return lst\n",
        "lst = fibonacci(10000)\n",
        "\n",
        "def checkFibonacci(n):\n",
        "  print('True') if (lambda x : x in lst) else print('False')\n",
        "\n",
        "checkFibonacci(5)"
      ],
      "execution_count": 4,
      "outputs": [
        {
          "output_type": "stream",
          "text": [
            "True\n"
          ],
          "name": "stdout"
        }
      ]
    },
    {
      "cell_type": "markdown",
      "metadata": {
        "id": "dWZoLQLWLPWU"
      },
      "source": [
        "## 2) Using list comprehension (and zip/ lambda/etc if required) write five different expressions that:"
      ]
    },
    {
      "cell_type": "markdown",
      "metadata": {
        "id": "jojNcnNbLUAH"
      },
      "source": [
        "a) Add 2 iterables a and b such that a is even and b is odd"
      ]
    },
    {
      "cell_type": "code",
      "metadata": {
        "id": "Owq_nOSLISAM",
        "outputId": "7f2dc849-6d9f-44e4-8a3f-c27020c6b70c",
        "colab": {
          "base_uri": "https://localhost:8080/"
        }
      },
      "source": [
        "e = [x for x in range(10, 20) if x%2==0]\n",
        "o = [x for x in range(10, 20) if x%2]\n",
        "\n",
        "print(e)\n",
        "print(o)\n",
        "\n",
        "print([x+y for x,y in zip(e, o)])"
      ],
      "execution_count": 8,
      "outputs": [
        {
          "output_type": "stream",
          "text": [
            "[10, 12, 14, 16, 18]\n",
            "[11, 13, 15, 17, 19]\n",
            "[21, 25, 29, 33, 37]\n"
          ],
          "name": "stdout"
        }
      ]
    },
    {
      "cell_type": "markdown",
      "metadata": {
        "id": "-mP9NcPDMX15"
      },
      "source": [
        "b) Strips every vowel from a string provided"
      ]
    },
    {
      "cell_type": "code",
      "metadata": {
        "id": "VZtqXKdrLmFr",
        "outputId": "225d39e4-818e-4961-b8b9-b9dc2da4f202",
        "colab": {
          "base_uri": "https://localhost:8080/"
        }
      },
      "source": [
        "def strip(x):\n",
        "  return [c for c in x if c.upper() not in \"AEIOU\"]\n",
        "\n",
        "print(''.join(strip('tsai')))"
      ],
      "execution_count": 9,
      "outputs": [
        {
          "output_type": "stream",
          "text": [
            "ts\n"
          ],
          "name": "stdout"
        }
      ]
    },
    {
      "cell_type": "markdown",
      "metadata": {
        "id": "rUYELCBMOsTC"
      },
      "source": [
        "c) Acts like a ReLU function for a 1D array"
      ]
    },
    {
      "cell_type": "code",
      "metadata": {
        "id": "AMO0ocIJNp0g",
        "outputId": "6698226a-4ca0-4a4f-d038-ff4b4f70a427",
        "colab": {
          "base_uri": "https://localhost:8080/"
        }
      },
      "source": [
        "def reLu(lst):\n",
        "  return [x for x in lst if x>=0]\n",
        "\n",
        "reLu([-10, -1, 0 ,1, 10])"
      ],
      "execution_count": 11,
      "outputs": [
        {
          "output_type": "execute_result",
          "data": {
            "text/plain": [
              "[0, 1, 10]"
            ]
          },
          "metadata": {
            "tags": []
          },
          "execution_count": 11
        }
      ]
    },
    {
      "cell_type": "markdown",
      "metadata": {
        "id": "gPNb-lv5O__O"
      },
      "source": [
        "d) Acts like a sigmoid function for a 1D array"
      ]
    },
    {
      "cell_type": "code",
      "metadata": {
        "id": "O_Dn5_9jO9UA",
        "outputId": "1689319c-3b31-47a0-ee06-7fe7e676a90b",
        "colab": {
          "base_uri": "https://localhost:8080/"
        }
      },
      "source": [
        "import math\n",
        "def sigmoid(lst):\n",
        "  return [1/(1+math.exp(-x)) for x in lst]\n",
        "\n",
        "sigmoid([-10, -5, -1, 0, 1, 5, 10])"
      ],
      "execution_count": 12,
      "outputs": [
        {
          "output_type": "execute_result",
          "data": {
            "text/plain": [
              "[4.5397868702434395e-05,\n",
              " 0.0066928509242848554,\n",
              " 0.2689414213699951,\n",
              " 0.5,\n",
              " 0.7310585786300049,\n",
              " 0.9933071490757153,\n",
              " 0.9999546021312976]"
            ]
          },
          "metadata": {
            "tags": []
          },
          "execution_count": 12
        }
      ]
    },
    {
      "cell_type": "markdown",
      "metadata": {
        "id": "JOfesbMORHYW"
      },
      "source": [
        "e) Takes a small character string and shifts all characters by 5"
      ]
    },
    {
      "cell_type": "code",
      "metadata": {
        "id": "3MYs04mFPjXN",
        "outputId": "9a8587da-34e7-46c1-9fcb-cc7305a48f05",
        "colab": {
          "base_uri": "https://localhost:8080/"
        }
      },
      "source": [
        "def shiftByN(s, n=1):\n",
        "     return [chr((ord(x) - 97 + n)%26 + 97) for x in s]\n",
        "print(''.join(shiftByN('tsai', 5)))"
      ],
      "execution_count": 16,
      "outputs": [
        {
          "output_type": "stream",
          "text": [
            "yxfn\n"
          ],
          "name": "stdout"
        }
      ]
    },
    {
      "cell_type": "markdown",
      "metadata": {
        "id": "6xRVPXVRSwBg"
      },
      "source": [
        "## 3) A list comprehension expression that takes a ~200 word paragraph, and checks whether it has any of the swear words"
      ]
    },
    {
      "cell_type": "code",
      "metadata": {
        "id": "SLOPvnQaRhj7",
        "outputId": "e0e73347-3a5c-4af0-c354-cbb6bc97809c",
        "colab": {
          "base_uri": "https://localhost:8080/"
        }
      },
      "source": [
        "!git clone 'https://github.com/RobertJGabriel/Google-profanity-words.git'\n",
        "f = open(\"/content/Google-profanity-words/list.txt\", \"r\")\n",
        "swearWords = [x.strip('\\n') for x in f]"
      ],
      "execution_count": 17,
      "outputs": [
        {
          "output_type": "stream",
          "text": [
            "Cloning into 'Google-profanity-words'...\n",
            "remote: Enumerating objects: 9, done.\u001b[K\n",
            "remote: Counting objects: 100% (9/9), done.\u001b[K\n",
            "remote: Compressing objects: 100% (9/9), done.\u001b[K\n",
            "remote: Total 25 (delta 2), reused 0 (delta 0), pack-reused 16\u001b[K\n",
            "Unpacking objects: 100% (25/25), done.\n"
          ],
          "name": "stdout"
        }
      ]
    },
    {
      "cell_type": "code",
      "metadata": {
        "id": "RyARMQtMUYIp"
      },
      "source": [
        "s = \"\"\"The natural environment encompasses all living and non-living things occurring naturally, meaning in this case not artificial. The term is most often applied to the Earth or some parts of Earth. This environment encompasses the interaction of all living species, climate, weather and natural resources that affect human survival and economic activity.[1] The concept of the natural environment can be distinguished as components:\n",
        "    fcuk\n",
        "    Complete ecological units that function as natural systems without massive civilized human intervention, including all vegetation, microorganisms, soil, rocks, atmosphere, and natural phenomena that occur within their boundaries and their nature.\n",
        "    Universal natural resources and physical phenomena that lack clear-cut boundaries, such as air, water, and climate, as well as energy, radiation, electric charge, and magnetism, not originating from civilized human actions.\n",
        "\n",
        "    In contrast to the natural environment is the built environment. In such areas where humans have fundamentally transformed landscapes such as urban settings and agricultural land conversion, the natural environment is greatly changed into a simplified human environment. Even acts which seem less extreme, such as building a mud hut or a photovoltaic system in the desert, the modified environment becomes an artificial one. Though many animals build things to provide a better environment for themselves, they are not human, hence beaver dams, and the works of mound-building termites, are thought of as natural. \"\"\""
      ],
      "execution_count": 19,
      "outputs": []
    },
    {
      "cell_type": "code",
      "metadata": {
        "id": "azdQpu2aVztA",
        "outputId": "d71b9b7a-a7b5-493f-d864-c39f88b234fc",
        "colab": {
          "base_uri": "https://localhost:8080/"
        }
      },
      "source": [
        "def checkSwear(s):\n",
        "  print('True') if([x for x in s.split() if x in swearWords]) else print('False')\n",
        "checkSwear(s)"
      ],
      "execution_count": 20,
      "outputs": [
        {
          "output_type": "stream",
          "text": [
            "True\n"
          ],
          "name": "stdout"
        }
      ]
    },
    {
      "cell_type": "markdown",
      "metadata": {
        "id": "rIKa0OF3Ygug"
      },
      "source": [
        "## 4) Using reduce functions:"
      ]
    },
    {
      "cell_type": "markdown",
      "metadata": {
        "id": "P6a2w3d4Yl1-"
      },
      "source": [
        "a) Add only even numbers in a list"
      ]
    },
    {
      "cell_type": "code",
      "metadata": {
        "id": "HxFcg_-KV0gQ",
        "outputId": "05b81bcc-ea20-4d7d-9c87-d99335d653b7",
        "colab": {
          "base_uri": "https://localhost:8080/"
        }
      },
      "source": [
        "from functools import reduce\n",
        "lst = [x for x in range(20,30)]\n",
        "\n",
        "print(lst)\n",
        "print(reduce(lambda x,y : x+y, [x for x in lst if x%2==0]))"
      ],
      "execution_count": 23,
      "outputs": [
        {
          "output_type": "stream",
          "text": [
            "[20, 21, 22, 23, 24, 25, 26, 27, 28, 29]\n",
            "120\n"
          ],
          "name": "stdout"
        }
      ]
    },
    {
      "cell_type": "markdown",
      "metadata": {
        "id": "1o2dCiTRpYr_"
      },
      "source": [
        "b) Find the biggest character in a string"
      ]
    },
    {
      "cell_type": "code",
      "metadata": {
        "id": "qsUV9eeUpenP",
        "outputId": "442521c4-4b27-4402-c303-2f9953945506",
        "colab": {
          "base_uri": "https://localhost:8080/",
          "height": 54
        }
      },
      "source": [
        "import string\n",
        "s=string.ascii_letters\n",
        "\n",
        "print(s)\n",
        "reduce(lambda x, y : x if x > y else y, s)"
      ],
      "execution_count": 25,
      "outputs": [
        {
          "output_type": "stream",
          "text": [
            "abcdefghijklmnopqrstuvwxyzABCDEFGHIJKLMNOPQRSTUVWXYZ\n"
          ],
          "name": "stdout"
        },
        {
          "output_type": "execute_result",
          "data": {
            "application/vnd.google.colaboratory.intrinsic+json": {
              "type": "string"
            },
            "text/plain": [
              "'z'"
            ]
          },
          "metadata": {
            "tags": []
          },
          "execution_count": 25
        }
      ]
    },
    {
      "cell_type": "markdown",
      "metadata": {
        "id": "J18FwTyUqjxg"
      },
      "source": [
        "c) Adds every 3rd number in a list"
      ]
    },
    {
      "cell_type": "code",
      "metadata": {
        "id": "3alq2LCLqm7z",
        "outputId": "6a9ad73c-94f8-4fb6-8bc4-1b855f3b1d30",
        "colab": {
          "base_uri": "https://localhost:8080/"
        }
      },
      "source": [
        "lst=[x for x in range(20,30)]\n",
        "\n",
        "print(lst)\n",
        "print(reduce(lambda x,y : x+y, lst[::3]))"
      ],
      "execution_count": 30,
      "outputs": [
        {
          "output_type": "stream",
          "text": [
            "[20, 21, 22, 23, 24, 25, 26, 27, 28, 29]\n",
            "98\n"
          ],
          "name": "stdout"
        }
      ]
    },
    {
      "cell_type": "markdown",
      "metadata": {
        "id": "h35TtRV3bQdn"
      },
      "source": [
        "## 5) Using randint, random.choice and list comprehensions, write an expression that generates 15 random KADDAADDDD number plates, where KA is fixed, D stands for a digit, and A stands for Capital alphabets. 10<<DD<<99 & 1000<<DDDD<<9999"
      ]
    },
    {
      "cell_type": "code",
      "metadata": {
        "id": "L9fpBNbCZUJv",
        "outputId": "1e4981e3-482f-4195-c6ef-94f65cc70814",
        "colab": {
          "base_uri": "https://localhost:8080/"
        }
      },
      "source": [
        "import random\n",
        "import string\n",
        "\n",
        "def createNumberPlate():\n",
        "  alphabets = string.ascii_uppercase\n",
        "  twoAlphabets = [alphabets[i]+alphabets[j] for i in range(len(alphabets)) for j in range(len(alphabets))]\n",
        "\n",
        "  return ['KA' + str(random.randint(10, 99)) + random.choice(twoAlphabets) + str(random.randint(1000, 9999)) for _ in range(15)]\n",
        "\n",
        "print(createNumberPlate())"
      ],
      "execution_count": null,
      "outputs": [
        {
          "output_type": "stream",
          "text": [
            "['KA53AH7400', 'KA95DK3887', 'KA52FE9875', 'KA20JE5366', 'KA96BN8297', 'KA18SZ6852', 'KA49PP7469', 'KA19SE8756', 'KA20OB4408', 'KA27PP8455', 'KA92PW7230', 'KA95DE2647', 'KA54HR4713', 'KA95XP8352', 'KA42IP4210']\n"
          ],
          "name": "stdout"
        }
      ]
    },
    {
      "cell_type": "markdown",
      "metadata": {
        "id": "n87knSoSnFFA"
      },
      "source": [
        "## 6) Write the above again from scratch where KA can be changed to DL, and 1000/9999 ranges can be provided"
      ]
    },
    {
      "cell_type": "code",
      "metadata": {
        "id": "jT5LaFG0kkwg",
        "outputId": "376b82c3-ebb1-46a6-fe94-1788a9e2d32c",
        "colab": {
          "base_uri": "https://localhost:8080/"
        }
      },
      "source": [
        "import random\n",
        "import string\n",
        "\n",
        "def createNumberPlate(r):\n",
        "  alphabets = string.ascii_uppercase\n",
        "  twoAlphabets = [alphabets[i]+alphabets[j] for i in range(len(alphabets)) for j in range(len(alphabets))]\n",
        "  firstLetters = ['KA', 'DL']\n",
        "  return [random.choice(firstLetters) + str(random.randint(10, 99)) + random.choice(twoAlphabets) + str(random.randint(r[0], r[1])) for _ in range(15)]\n",
        "\n",
        "print(createNumberPlate((4000,5000)))"
      ],
      "execution_count": 34,
      "outputs": [
        {
          "output_type": "stream",
          "text": [
            "['DL12HY4904', 'DL23ON4827', 'DL49UU4171', 'KA35CU4705', 'KA49TJ4184', 'DL44SO4441', 'DL66IO4335', 'KA93ZS4713', 'KA63PG4700', 'KA79VM4654', 'DL13CG4821', 'KA43VM4920', 'KA38TN4215', 'DL28DI4469', 'DL25MS4614']\n"
          ],
          "name": "stdout"
        }
      ]
    },
    {
      "cell_type": "code",
      "metadata": {
        "id": "0KWR7z2K07QL"
      },
      "source": [
        ""
      ],
      "execution_count": null,
      "outputs": []
    }
  ]
}